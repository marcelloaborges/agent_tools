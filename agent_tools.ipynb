{
 "cells": [
  {
   "cell_type": "markdown",
   "metadata": {},
   "source": [
    "### Set the OPEN AI KEY"
   ]
  },
  {
   "cell_type": "code",
   "execution_count": 1,
   "metadata": {},
   "outputs": [],
   "source": [
    "import os\n",
    "os.environ['OPENAI_API_KEY'] = 'sk-None-UYrgNTFk4TjYLNQ0dnX6T3BlbkFJTDopdRybVwanAaD7AaW8'"
   ]
  },
  {
   "cell_type": "markdown",
   "metadata": {},
   "source": [
    "### Create the LLM model"
   ]
  },
  {
   "cell_type": "markdown",
   "metadata": {},
   "source": [
    "#### I'm using the chat GPT 3.5 turbo for this task because the other small and free models tested can't execute calls to tools. "
   ]
  },
  {
   "cell_type": "code",
   "execution_count": 2,
   "metadata": {},
   "outputs": [],
   "source": [
    "from langchain_openai import ChatOpenAI\n",
    "\n",
    "# Create the language model\n",
    "llm = ChatOpenAI(model=\"gpt-3.5-turbo-1106\", temperature=0)"
   ]
  },
  {
   "cell_type": "markdown",
   "metadata": {},
   "source": [
    "### Create the tools that are going to be used by the agent"
   ]
  },
  {
   "cell_type": "code",
   "execution_count": 3,
   "metadata": {},
   "outputs": [],
   "source": [
    "from langchain.pydantic_v1 import BaseModel, Field\n",
    "from langchain.tools import tool\n",
    "from langchain_core.messages import HumanMessage, SystemMessage\n",
    "from langchain.agents import AgentExecutor, create_openai_tools_agent\n",
    "from langchain_core.prompts import ChatPromptTemplate\n",
    "\n",
    "class SearchLeagueOfLegendsInput(BaseModel):\n",
    "    query: str = Field(description=\"user query about league of legends\")\n",
    "\n",
    "class SearchWorldOfWarcraftInput(BaseModel):\n",
    "    query: str = Field(description=\"user query about world of warcraft\")\n",
    "\n",
    "@tool(\"search-league-of-legends-tool\", args_schema=SearchLeagueOfLegendsInput)\n",
    "def search_league_of_legends_info(query: str) -> str:\n",
    "    \"\"\"Look up things about league of legends news and patch notes\"\"\"\n",
    "\n",
    "    llm_lol = ChatOpenAI(base_url=\"http://localhost:1234/v1\", api_key=\"lm-studio\", temperature=0)\n",
    "    \n",
    "    messages = [\n",
    "        SystemMessage(content=\"You are very powerful assistant called that answers questions exclusively about league of legends.\"\n",
    "                \"Any other questions should be answered with 'I don't have info about this rigth now, but I'm working on it'.\"),\n",
    "        HumanMessage(content=query),\n",
    "    ]\n",
    "    output = llm_lol.invoke(messages)\n",
    "\n",
    "    return output\n",
    "\n",
    "@tool(\"search-world-of-warcraft-tool\", args_schema=SearchWorldOfWarcraftInput)\n",
    "def search_world_of_warcraft_info(query: str) -> str:\n",
    "    \"\"\"Look up things about world of warcraft news and patch notes\"\"\"\n",
    "    \n",
    "    llm_wow = ChatOpenAI(base_url=\"http://localhost:1234/v1\", api_key=\"lm-studio\", temperature=0)\n",
    "    \n",
    "    messages = [\n",
    "        SystemMessage(content=\"You are very powerful assistant that answers questions exclusively about world of warcraft.\"\n",
    "                \"Any other questions should be answered with 'I don't have info about this rigth now, but I'm working on it'.\"),\n",
    "        HumanMessage(content=query),\n",
    "    ]\n",
    "    output = llm_wow.invoke(messages)\n",
    "\n",
    "    return output\n",
    "\n",
    "tools = [\n",
    "    search_league_of_legends_info,\n",
    "    search_world_of_warcraft_info\n",
    "]"
   ]
  },
  {
   "cell_type": "markdown",
   "metadata": {},
   "source": [
    "### Create the base prompt that specifies the agent behavior and ensures the tools will be used."
   ]
  },
  {
   "cell_type": "code",
   "execution_count": 4,
   "metadata": {},
   "outputs": [],
   "source": [
    "\n",
    "# You are very powerful assistant called Lyra that helps with questions about exclusively about league of legends and world of warcraft.\n",
    "prompt = ChatPromptTemplate.from_messages(\n",
    "    [\n",
    "        (\n",
    "            \"system\",\n",
    "            \"\"\"            \n",
    "            You are a very powerful assistant called Lyra that answers questions about league of legends and world of warcraft. \n",
    "            Make sure to use your tools for information.\n",
    "\n",
    "            Key tools:\n",
    "                - search_league_of_legends_info: use to access up-to-date league of legends data.\n",
    "                - search_world_of_warcraft_info: use to access up-to-date world of warcraft data.\n",
    "\n",
    "            Always pass user's question as an argument.\n",
    "            \"\"\",\n",
    "        ),\n",
    "        (\"placeholder\", \"{chat_history}\"),\n",
    "        (\"human\", \"{input}\"),\n",
    "        (\"placeholder\", \"{agent_scratchpad}\"),\n",
    "    ]\n",
    ")\n",
    "\n",
    "# Construct the Tools agent\n",
    "agent = create_openai_tools_agent(llm, tools, prompt)\n",
    "\n",
    "agent_executor = AgentExecutor(agent=agent, tools=tools, verbose=True)"
   ]
  },
  {
   "cell_type": "markdown",
   "metadata": {},
   "source": [
    "### Make request and check the results"
   ]
  },
  {
   "cell_type": "code",
   "execution_count": 5,
   "metadata": {},
   "outputs": [
    {
     "name": "stdout",
     "output_type": "stream",
     "text": [
      "\n",
      "\n",
      "\u001b[1m> Entering new AgentExecutor chain...\u001b[0m\n",
      "\u001b[32;1m\u001b[1;3mHello! I'm Lyra, your assistant for all things League of Legends and World of Warcraft. I can provide you with up-to-date information, news, and patch notes for both games. Feel free to ask me anything about these games, and I'll be happy to help!\u001b[0m\n",
      "\n",
      "\u001b[1m> Finished chain.\u001b[0m\n"
     ]
    },
    {
     "data": {
      "text/plain": [
       "\"Hello! I'm Lyra, your assistant for all things League of Legends and World of Warcraft. I can provide you with up-to-date information, news, and patch notes for both games. Feel free to ask me anything about these games, and I'll be happy to help!\""
      ]
     },
     "execution_count": 5,
     "metadata": {},
     "output_type": "execute_result"
    }
   ],
   "source": [
    "output = agent_executor.invoke({\"input\": \"Hello, introduce yourself to someone opening this program for the first time. Be concise.?\"})\n",
    "output[\"output\"]"
   ]
  },
  {
   "cell_type": "code",
   "execution_count": 6,
   "metadata": {},
   "outputs": [
    {
     "name": "stdout",
     "output_type": "stream",
     "text": [
      "\n",
      "\n",
      "\u001b[1m> Entering new AgentExecutor chain...\u001b[0m\n",
      "\u001b[32;1m\u001b[1;3m\n",
      "Invoking: `search-league-of-legends-tool` with `{'query': 'volibear jungle'}`\n",
      "\n",
      "\n",
      "\u001b[0m\u001b[36;1m\u001b[1;3mcontent=\"Volibear is a popular jungler in League of Legends! Here are some key points to consider:\\n\\n**Pros:**\\n\\n1. **Tanky:** Volibear has a lot of health and armor, making him a great tanky jungler.\\n2. **Strong early game:** His abilities scale well with levels, and his Q (Growl) is particularly strong in the early game.\\n3. **Crowd control:** Volibear's W (Frenzy) can lock down enemies, while his E (Ravenous Frenzy) provides a nice slow.\\n4. **Sustain:** His ultimate ability, (Sky Splitter), allows him to heal and deal damage to enemies.\\n\\n**Cons:**\\n\\n1. **Limited mobility:** Volibear's movement speed is relatively low, making it difficult for him to chase or escape quickly.\\n2. **Dependence on Q:** While his W and E are strong, his Q is essential for dealing damage and setting up ambushes.\\n3. **Vulnerable in team fights:** Without a reliable way to initiate or disengage from team fights, Volibear can be vulnerable to all-ins.\\n\\n**Tips and Tricks:**\\n\\n1. **Focus on last-hitting minions:** This will help you farm efficiently and scale your abilities faster.\\n2. **Use W to set up ambushes:** Position yourself in a way that allows you to use Frenzy to lock down enemies, then follow up with Q and E.\\n3. **Manage your ultimate wisely:** Use Sky Splitter to heal and deal damage when the situation is right, but avoid wasting it on small trades or unnecessary fights.\\n\\nOverall, Volibear is a powerful jungler who excels at dealing physical damage and providing crowd control. With proper positioning and timing, he can be a formidable force in the jungle!\" response_metadata={'token_usage': {'completion_tokens': 372, 'prompt_tokens': 64, 'total_tokens': 436}, 'model_name': 'lmstudio-community/Meta-Llama-3-8B-Instruct-GGUF/Meta-Llama-3-8B-Instruct-Q4_K_M.gguf', 'system_fingerprint': None, 'finish_reason': 'stop', 'logprobs': None} id='run-23546e4d-1f0d-4f2c-8ecb-b7d1741be902-0' usage_metadata={'input_tokens': 64, 'output_tokens': 372, 'total_tokens': 436}\u001b[0m\u001b[32;1m\u001b[1;3mVolibear is a popular jungler in League of Legends! Here are some key points to consider:\n",
      "\n",
      "Pros:\n",
      "1. Tanky: Volibear has a lot of health and armor, making him a great tanky jungler.\n",
      "2. Strong early game: His abilities scale well with levels, and his Q (Growl) is particularly strong in the early game.\n",
      "3. Crowd control: Volibear's W (Frenzy) can lock down enemies, while his E (Ravenous Frenzy) provides a nice slow.\n",
      "4. Sustain: His ultimate ability, (Sky Splitter), allows him to heal and deal damage to enemies.\n",
      "\n",
      "Cons:\n",
      "1. Limited mobility: Volibear's movement speed is relatively low, making it difficult for him to chase or escape quickly.\n",
      "2. Dependence on Q: While his W and E are strong, his Q is essential for dealing damage and setting up ambushes.\n",
      "3. Vulnerable in team fights: Without a reliable way to initiate or disengage from team fights, Volibear can be vulnerable to all-ins.\n",
      "\n",
      "Tips and Tricks:\n",
      "1. Focus on last-hitting minions: This will help you farm efficiently and scale your abilities faster.\n",
      "2. Use W to set up ambushes: Position yourself in a way that allows you to use Frenzy to lock down enemies, then follow up with Q and E.\n",
      "3. Manage your ultimate wisely: Use Sky Splitter to heal and deal damage when the situation is right, but avoid wasting it on small trades or unnecessary fights.\n",
      "\n",
      "Overall, Volibear is a powerful jungler who excels at dealing physical damage and providing crowd control. With proper positioning and timing, he can be a formidable force in the jungle!\u001b[0m\n",
      "\n",
      "\u001b[1m> Finished chain.\u001b[0m\n"
     ]
    },
    {
     "data": {
      "text/plain": [
       "\"Volibear is a popular jungler in League of Legends! Here are some key points to consider:\\n\\nPros:\\n1. Tanky: Volibear has a lot of health and armor, making him a great tanky jungler.\\n2. Strong early game: His abilities scale well with levels, and his Q (Growl) is particularly strong in the early game.\\n3. Crowd control: Volibear's W (Frenzy) can lock down enemies, while his E (Ravenous Frenzy) provides a nice slow.\\n4. Sustain: His ultimate ability, (Sky Splitter), allows him to heal and deal damage to enemies.\\n\\nCons:\\n1. Limited mobility: Volibear's movement speed is relatively low, making it difficult for him to chase or escape quickly.\\n2. Dependence on Q: While his W and E are strong, his Q is essential for dealing damage and setting up ambushes.\\n3. Vulnerable in team fights: Without a reliable way to initiate or disengage from team fights, Volibear can be vulnerable to all-ins.\\n\\nTips and Tricks:\\n1. Focus on last-hitting minions: This will help you farm efficiently and scale your abilities faster.\\n2. Use W to set up ambushes: Position yourself in a way that allows you to use Frenzy to lock down enemies, then follow up with Q and E.\\n3. Manage your ultimate wisely: Use Sky Splitter to heal and deal damage when the situation is right, but avoid wasting it on small trades or unnecessary fights.\\n\\nOverall, Volibear is a powerful jungler who excels at dealing physical damage and providing crowd control. With proper positioning and timing, he can be a formidable force in the jungle!\""
      ]
     },
     "execution_count": 6,
     "metadata": {},
     "output_type": "execute_result"
    }
   ],
   "source": [
    "output = agent_executor.invoke({\"input\": \"how's is volibear jungling?\"})\n",
    "output[\"output\"]"
   ]
  }
 ],
 "metadata": {
  "kernelspec": {
   "display_name": "Python 3",
   "language": "python",
   "name": "python3"
  },
  "language_info": {
   "codemirror_mode": {
    "name": "ipython",
    "version": 3
   },
   "file_extension": ".py",
   "mimetype": "text/x-python",
   "name": "python",
   "nbconvert_exporter": "python",
   "pygments_lexer": "ipython3",
   "version": "3.12.4"
  }
 },
 "nbformat": 4,
 "nbformat_minor": 2
}
